{
 "cells": [
  {
   "cell_type": "markdown",
   "id": "42fe988c-1b5a-4958-843a-56d29a4b0b1c",
   "metadata": {},
   "source": [
    "## loading dataset"
   ]
  },
  {
   "cell_type": "code",
   "execution_count": 10,
   "id": "5824d598-4c06-462c-a87f-203a09f1847e",
   "metadata": {
    "scrolled": true
   },
   "outputs": [
    {
     "name": "stdout",
     "output_type": "stream",
     "text": [
      "Requirement already satisfied: kaggle in /opt/anaconda3/lib/python3.12/site-packages (1.7.4.2)\n",
      "Requirement already satisfied: bleach in /opt/anaconda3/lib/python3.12/site-packages (from kaggle) (4.1.0)\n",
      "Requirement already satisfied: certifi>=14.05.14 in /opt/anaconda3/lib/python3.12/site-packages (from kaggle) (2025.1.31)\n",
      "Requirement already satisfied: charset-normalizer in /opt/anaconda3/lib/python3.12/site-packages (from kaggle) (3.3.2)\n",
      "Requirement already satisfied: idna in /opt/anaconda3/lib/python3.12/site-packages (from kaggle) (3.7)\n",
      "Requirement already satisfied: protobuf in /opt/anaconda3/lib/python3.12/site-packages (from kaggle) (4.25.3)\n",
      "Requirement already satisfied: python-dateutil>=2.5.3 in /opt/anaconda3/lib/python3.12/site-packages (from kaggle) (2.9.0.post0)\n",
      "Requirement already satisfied: python-slugify in /opt/anaconda3/lib/python3.12/site-packages (from kaggle) (5.0.2)\n",
      "Requirement already satisfied: requests in /opt/anaconda3/lib/python3.12/site-packages (from kaggle) (2.32.3)\n",
      "Requirement already satisfied: setuptools>=21.0.0 in /opt/anaconda3/lib/python3.12/site-packages (from kaggle) (75.1.0)\n",
      "Requirement already satisfied: six>=1.10 in /opt/anaconda3/lib/python3.12/site-packages (from kaggle) (1.16.0)\n",
      "Requirement already satisfied: text-unidecode in /opt/anaconda3/lib/python3.12/site-packages (from kaggle) (1.3)\n",
      "Requirement already satisfied: tqdm in /opt/anaconda3/lib/python3.12/site-packages (from kaggle) (4.66.5)\n",
      "Requirement already satisfied: urllib3>=1.15.1 in /opt/anaconda3/lib/python3.12/site-packages (from kaggle) (2.2.3)\n",
      "Requirement already satisfied: webencodings in /opt/anaconda3/lib/python3.12/site-packages (from kaggle) (0.5.1)\n",
      "Requirement already satisfied: packaging in /opt/anaconda3/lib/python3.12/site-packages (from bleach->kaggle) (24.1)\n",
      "cp: kaggle.json: No such file or directory\n",
      "Dataset URL: https://www.kaggle.com/datasets/subhajournal/phishingemails\n",
      "License(s): GNU Lesser General Public License 3.0\n",
      "phishingemails.zip: Skipping, found more recently modified local copy (use --force to force download)\n",
      "Archive:  phishingemails.zip\n",
      "replace Phishing_Email.csv? [y]es, [n]o, [A]ll, [N]one, [r]ename: ^C\n"
     ]
    }
   ],
   "source": [
    "!pip install kaggle\n",
    "!mkdir -p ~/.kaggle\n",
    "!cp kaggle.json ~/.kaggle/\n",
    "!chmod 600 ~/.kaggle/kaggle.json\n",
    "!kaggle datasets download -d subhajournal/phishingemails\n",
    "!unzip phishingemails.zip"
   ]
  },
  {
   "cell_type": "code",
   "execution_count": 1,
   "id": "b216e620-546d-4047-a41c-27f0fd60de67",
   "metadata": {},
   "outputs": [
    {
     "data": {
      "text/html": [
       "<div>\n",
       "<style scoped>\n",
       "    .dataframe tbody tr th:only-of-type {\n",
       "        vertical-align: middle;\n",
       "    }\n",
       "\n",
       "    .dataframe tbody tr th {\n",
       "        vertical-align: top;\n",
       "    }\n",
       "\n",
       "    .dataframe thead th {\n",
       "        text-align: right;\n",
       "    }\n",
       "</style>\n",
       "<table border=\"1\" class=\"dataframe\">\n",
       "  <thead>\n",
       "    <tr style=\"text-align: right;\">\n",
       "      <th></th>\n",
       "      <th>Unnamed: 0</th>\n",
       "      <th>Email Text</th>\n",
       "      <th>Email Type</th>\n",
       "    </tr>\n",
       "  </thead>\n",
       "  <tbody>\n",
       "    <tr>\n",
       "      <th>0</th>\n",
       "      <td>0</td>\n",
       "      <td>re : 6 . 1100 , disc : uniformitarianism , re ...</td>\n",
       "      <td>Safe Email</td>\n",
       "    </tr>\n",
       "    <tr>\n",
       "      <th>1</th>\n",
       "      <td>1</td>\n",
       "      <td>the other side of * galicismos * * galicismo *...</td>\n",
       "      <td>Safe Email</td>\n",
       "    </tr>\n",
       "    <tr>\n",
       "      <th>2</th>\n",
       "      <td>2</td>\n",
       "      <td>re : equistar deal tickets are you still avail...</td>\n",
       "      <td>Safe Email</td>\n",
       "    </tr>\n",
       "    <tr>\n",
       "      <th>3</th>\n",
       "      <td>3</td>\n",
       "      <td>\\nHello I am your hot lil horny toy.\\n    I am...</td>\n",
       "      <td>Phishing Email</td>\n",
       "    </tr>\n",
       "    <tr>\n",
       "      <th>4</th>\n",
       "      <td>4</td>\n",
       "      <td>software at incredibly low prices ( 86 % lower...</td>\n",
       "      <td>Phishing Email</td>\n",
       "    </tr>\n",
       "    <tr>\n",
       "      <th>...</th>\n",
       "      <td>...</td>\n",
       "      <td>...</td>\n",
       "      <td>...</td>\n",
       "    </tr>\n",
       "    <tr>\n",
       "      <th>18645</th>\n",
       "      <td>18646</td>\n",
       "      <td>date a lonely housewife always wanted to date ...</td>\n",
       "      <td>Phishing Email</td>\n",
       "    </tr>\n",
       "    <tr>\n",
       "      <th>18646</th>\n",
       "      <td>18647</td>\n",
       "      <td>request submitted : access request for anita ....</td>\n",
       "      <td>Safe Email</td>\n",
       "    </tr>\n",
       "    <tr>\n",
       "      <th>18647</th>\n",
       "      <td>18648</td>\n",
       "      <td>re : important - prc mtg hi dorn &amp; john , as y...</td>\n",
       "      <td>Safe Email</td>\n",
       "    </tr>\n",
       "    <tr>\n",
       "      <th>18648</th>\n",
       "      <td>18649</td>\n",
       "      <td>press clippings - letter on californian utilit...</td>\n",
       "      <td>Safe Email</td>\n",
       "    </tr>\n",
       "    <tr>\n",
       "      <th>18649</th>\n",
       "      <td>18650</td>\n",
       "      <td>empty</td>\n",
       "      <td>Phishing Email</td>\n",
       "    </tr>\n",
       "  </tbody>\n",
       "</table>\n",
       "<p>18650 rows × 3 columns</p>\n",
       "</div>"
      ],
      "text/plain": [
       "       Unnamed: 0                                         Email Text  \\\n",
       "0               0  re : 6 . 1100 , disc : uniformitarianism , re ...   \n",
       "1               1  the other side of * galicismos * * galicismo *...   \n",
       "2               2  re : equistar deal tickets are you still avail...   \n",
       "3               3  \\nHello I am your hot lil horny toy.\\n    I am...   \n",
       "4               4  software at incredibly low prices ( 86 % lower...   \n",
       "...           ...                                                ...   \n",
       "18645       18646  date a lonely housewife always wanted to date ...   \n",
       "18646       18647  request submitted : access request for anita ....   \n",
       "18647       18648  re : important - prc mtg hi dorn & john , as y...   \n",
       "18648       18649  press clippings - letter on californian utilit...   \n",
       "18649       18650                                              empty   \n",
       "\n",
       "           Email Type  \n",
       "0          Safe Email  \n",
       "1          Safe Email  \n",
       "2          Safe Email  \n",
       "3      Phishing Email  \n",
       "4      Phishing Email  \n",
       "...               ...  \n",
       "18645  Phishing Email  \n",
       "18646      Safe Email  \n",
       "18647      Safe Email  \n",
       "18648      Safe Email  \n",
       "18649  Phishing Email  \n",
       "\n",
       "[18650 rows x 3 columns]"
      ]
     },
     "execution_count": 1,
     "metadata": {},
     "output_type": "execute_result"
    }
   ],
   "source": [
    "import pandas as pd\n",
    "\n",
    "df = pd.read_csv('Phishing_Email.csv')\n",
    "df"
   ]
  },
  {
   "cell_type": "markdown",
   "id": "f5c9171d-021d-4401-813d-c9485ddc7557",
   "metadata": {},
   "source": [
    "## Prepocessing"
   ]
  },
  {
   "cell_type": "markdown",
   "id": "31c25bb8-9e04-4b48-9158-404e3893524c",
   "metadata": {},
   "source": [
    "clean up the skips"
   ]
  },
  {
   "cell_type": "code",
   "execution_count": 5,
   "id": "cc0cee8e-bf0e-4ec0-b0ef-0ce2b23bc3e3",
   "metadata": {},
   "outputs": [
    {
     "data": {
      "text/plain": [
       "Unnamed: 0     0\n",
       "Email Text    16\n",
       "Email Type     0\n",
       "dtype: int64"
      ]
     },
     "execution_count": 5,
     "metadata": {},
     "output_type": "execute_result"
    }
   ],
   "source": [
    "df.isnull().sum()"
   ]
  },
  {
   "cell_type": "code",
   "execution_count": 7,
   "id": "017877d2-5fd6-4a89-8320-1e1dbcf20279",
   "metadata": {},
   "outputs": [
    {
     "name": "stdout",
     "output_type": "stream",
     "text": [
      "(17538, 2)\n"
     ]
    },
    {
     "data": {
      "text/html": [
       "<div>\n",
       "<style scoped>\n",
       "    .dataframe tbody tr th:only-of-type {\n",
       "        vertical-align: middle;\n",
       "    }\n",
       "\n",
       "    .dataframe tbody tr th {\n",
       "        vertical-align: top;\n",
       "    }\n",
       "\n",
       "    .dataframe thead th {\n",
       "        text-align: right;\n",
       "    }\n",
       "</style>\n",
       "<table border=\"1\" class=\"dataframe\">\n",
       "  <thead>\n",
       "    <tr style=\"text-align: right;\">\n",
       "      <th></th>\n",
       "      <th>Email Text</th>\n",
       "      <th>Email Type</th>\n",
       "    </tr>\n",
       "  </thead>\n",
       "  <tbody>\n",
       "    <tr>\n",
       "      <th>0</th>\n",
       "      <td>re : 6 . 1100 , disc : uniformitarianism , re ...</td>\n",
       "      <td>Safe Email</td>\n",
       "    </tr>\n",
       "    <tr>\n",
       "      <th>1</th>\n",
       "      <td>the other side of * galicismos * * galicismo *...</td>\n",
       "      <td>Safe Email</td>\n",
       "    </tr>\n",
       "    <tr>\n",
       "      <th>2</th>\n",
       "      <td>re : equistar deal tickets are you still avail...</td>\n",
       "      <td>Safe Email</td>\n",
       "    </tr>\n",
       "    <tr>\n",
       "      <th>3</th>\n",
       "      <td>\\nHello I am your hot lil horny toy.\\n    I am...</td>\n",
       "      <td>Phishing Email</td>\n",
       "    </tr>\n",
       "    <tr>\n",
       "      <th>4</th>\n",
       "      <td>software at incredibly low prices ( 86 % lower...</td>\n",
       "      <td>Phishing Email</td>\n",
       "    </tr>\n",
       "  </tbody>\n",
       "</table>\n",
       "</div>"
      ],
      "text/plain": [
       "                                          Email Text      Email Type\n",
       "0  re : 6 . 1100 , disc : uniformitarianism , re ...      Safe Email\n",
       "1  the other side of * galicismos * * galicismo *...      Safe Email\n",
       "2  re : equistar deal tickets are you still avail...      Safe Email\n",
       "3  \\nHello I am your hot lil horny toy.\\n    I am...  Phishing Email\n",
       "4  software at incredibly low prices ( 86 % lower...  Phishing Email"
      ]
     },
     "execution_count": 7,
     "metadata": {},
     "output_type": "execute_result"
    }
   ],
   "source": [
    "df = df.drop([\"Unnamed: 0\"],axis=1).dropna(axis=0).drop_duplicates()\n",
    "print(df.shape)\n",
    "df.head()"
   ]
  },
  {
   "cell_type": "markdown",
   "id": "bccee9fc-1252-47ad-b7d3-331fc0a05946",
   "metadata": {},
   "source": [
    "translate the values into the target variable "
   ]
  },
  {
   "cell_type": "code",
   "execution_count": 10,
   "id": "5354ce1f-9603-421b-ae9c-ee71f12babe2",
   "metadata": {},
   "outputs": [
    {
     "data": {
      "text/html": [
       "<div>\n",
       "<style scoped>\n",
       "    .dataframe tbody tr th:only-of-type {\n",
       "        vertical-align: middle;\n",
       "    }\n",
       "\n",
       "    .dataframe tbody tr th {\n",
       "        vertical-align: top;\n",
       "    }\n",
       "\n",
       "    .dataframe thead th {\n",
       "        text-align: right;\n",
       "    }\n",
       "</style>\n",
       "<table border=\"1\" class=\"dataframe\">\n",
       "  <thead>\n",
       "    <tr style=\"text-align: right;\">\n",
       "      <th></th>\n",
       "      <th>Email Text</th>\n",
       "      <th>Email Type</th>\n",
       "    </tr>\n",
       "  </thead>\n",
       "  <tbody>\n",
       "    <tr>\n",
       "      <th>0</th>\n",
       "      <td>re : 6 . 1100 , disc : uniformitarianism , re ...</td>\n",
       "      <td>1</td>\n",
       "    </tr>\n",
       "    <tr>\n",
       "      <th>1</th>\n",
       "      <td>the other side of * galicismos * * galicismo *...</td>\n",
       "      <td>1</td>\n",
       "    </tr>\n",
       "    <tr>\n",
       "      <th>2</th>\n",
       "      <td>re : equistar deal tickets are you still avail...</td>\n",
       "      <td>1</td>\n",
       "    </tr>\n",
       "    <tr>\n",
       "      <th>3</th>\n",
       "      <td>\\nHello I am your hot lil horny toy.\\n    I am...</td>\n",
       "      <td>0</td>\n",
       "    </tr>\n",
       "    <tr>\n",
       "      <th>4</th>\n",
       "      <td>software at incredibly low prices ( 86 % lower...</td>\n",
       "      <td>0</td>\n",
       "    </tr>\n",
       "    <tr>\n",
       "      <th>...</th>\n",
       "      <td>...</td>\n",
       "      <td>...</td>\n",
       "    </tr>\n",
       "    <tr>\n",
       "      <th>18644</th>\n",
       "      <td>\\nRick Moen  a Ã©crit:&gt; &gt; I'm confused. I thou...</td>\n",
       "      <td>1</td>\n",
       "    </tr>\n",
       "    <tr>\n",
       "      <th>18645</th>\n",
       "      <td>date a lonely housewife always wanted to date ...</td>\n",
       "      <td>0</td>\n",
       "    </tr>\n",
       "    <tr>\n",
       "      <th>18646</th>\n",
       "      <td>request submitted : access request for anita ....</td>\n",
       "      <td>1</td>\n",
       "    </tr>\n",
       "    <tr>\n",
       "      <th>18647</th>\n",
       "      <td>re : important - prc mtg hi dorn &amp; john , as y...</td>\n",
       "      <td>1</td>\n",
       "    </tr>\n",
       "    <tr>\n",
       "      <th>18648</th>\n",
       "      <td>press clippings - letter on californian utilit...</td>\n",
       "      <td>1</td>\n",
       "    </tr>\n",
       "  </tbody>\n",
       "</table>\n",
       "<p>17538 rows × 2 columns</p>\n",
       "</div>"
      ],
      "text/plain": [
       "                                              Email Text  Email Type\n",
       "0      re : 6 . 1100 , disc : uniformitarianism , re ...           1\n",
       "1      the other side of * galicismos * * galicismo *...           1\n",
       "2      re : equistar deal tickets are you still avail...           1\n",
       "3      \\nHello I am your hot lil horny toy.\\n    I am...           0\n",
       "4      software at incredibly low prices ( 86 % lower...           0\n",
       "...                                                  ...         ...\n",
       "18644  \\nRick Moen  a Ã©crit:> > I'm confused. I thou...           1\n",
       "18645  date a lonely housewife always wanted to date ...           0\n",
       "18646  request submitted : access request for anita ....           1\n",
       "18647  re : important - prc mtg hi dorn & john , as y...           1\n",
       "18648  press clippings - letter on californian utilit...           1\n",
       "\n",
       "[17538 rows x 2 columns]"
      ]
     },
     "execution_count": 10,
     "metadata": {},
     "output_type": "execute_result"
    }
   ],
   "source": [
    "from sklearn.preprocessing import LabelEncoder\n",
    "\n",
    "le = LabelEncoder()\n",
    "\n",
    "df[\"Email Type\"] = le.fit_transform(df[\"Email Type\"])\n",
    "df"
   ]
  },
  {
   "cell_type": "markdown",
   "id": "e7edf417-57f9-424d-8fbc-6e18095dc994",
   "metadata": {},
   "source": [
    "### Vectorizing"
   ]
  },
  {
   "cell_type": "code",
   "execution_count": 13,
   "id": "b79e1a3e-29d2-4424-9ed6-e5983c44a25c",
   "metadata": {},
   "outputs": [],
   "source": [
    "from sklearn.feature_extraction.text import TfidfVectorizer\n",
    "from sklearn.model_selection import train_test_split\n",
    "import numpy as np\n",
    "\n",
    "tfidf = TfidfVectorizer(stop_words=\"english\",max_features=10000)\n",
    "X = tfidf.fit_transform(df[\"Email Text\"]).toarray()\n",
    "y = np.array(df['Email Type'])"
   ]
  },
  {
   "cell_type": "markdown",
   "id": "77c24d06-5c2a-4c14-b57b-ac7bc0cd253c",
   "metadata": {},
   "source": [
    "### Split into training and test sample"
   ]
  },
  {
   "cell_type": "code",
   "execution_count": 15,
   "id": "d55a8099-dc57-44fa-b27e-c1f8590e5a16",
   "metadata": {},
   "outputs": [],
   "source": [
    "X_train, X_test, y_train, y_test = train_test_split(\n",
    "    X, y, test_size=0.2, random_state=0)"
   ]
  },
  {
   "cell_type": "markdown",
   "id": "8300ed9b-733c-4d77-aa0a-b48171ecdae9",
   "metadata": {},
   "source": [
    "## Application of different models"
   ]
  },
  {
   "cell_type": "markdown",
   "id": "5bea3f23-1160-4fd6-b8d6-4456444b6313",
   "metadata": {},
   "source": [
    "### Metrics"
   ]
  },
  {
   "cell_type": "code",
   "execution_count": 20,
   "id": "92b029e3-7154-4f92-b5d7-e1723ae66b2e",
   "metadata": {},
   "outputs": [],
   "source": [
    "from sklearn.metrics import (accuracy_score, f1_score, recall_score, precision_score, confusion_matrix, ConfusionMatrixDisplay)\n",
    "import matplotlib.pyplot as plt\n",
    "from sklearn.model_selection import cross_validate\n",
    "\n",
    "def show_mean_metrics(model_name, model, X, y, as_percentage=True):\n",
    "    scoring = ['accuracy', 'f1', 'recall', 'precision']\n",
    "    scores = cross_validate(model, X, y, cv=5, scoring=scoring)\n",
    "    \n",
    "    # Compute means and standard deviations\n",
    "    multiplier = 100 if as_percentage else 1\n",
    "    accuracy = round(scores['test_accuracy'].mean() * multiplier, 2)\n",
    "    accuracy_std = round(scores['test_accuracy'].std() * multiplier, 2)\n",
    "    \n",
    "    recall = round(scores['test_recall'].mean() * multiplier, 2)\n",
    "    recall_std = round(scores['test_recall'].std() * multiplier, 2)\n",
    "    \n",
    "    precision = round(scores['test_precision'].mean() * multiplier, 2)\n",
    "    precision_std = round(scores['test_precision'].std() * multiplier, 2)\n",
    "    \n",
    "    f1 = round(scores['test_f1'].mean() * multiplier, 2)\n",
    "    f1_std = round(scores['test_f1'].std() * multiplier, 2)\n",
    "    \n",
    "    print(f\"Model: {model_name}\")\n",
    "    print(f\"Accuracy: {accuracy}% (±{accuracy_std}%)\")\n",
    "    print(f\"Recall: {recall}% (±{recall_std}%)\")\n",
    "    print(f\"Precision: {precision}% (±{precision_std}%)\")\n",
    "    print(f\"F1 Score: {f1}% (±{f1_std}%)\")\n",
    "\n",
    "    return model_name, accuracy, accuracy_std, recall, recall_std, precision, precision_std, f1, f1_std"
   ]
  },
  {
   "cell_type": "code",
   "execution_count": 30,
   "id": "cfabc1e6-e29e-44cf-a070-630260f10e84",
   "metadata": {},
   "outputs": [],
   "source": [
    "result = []"
   ]
  },
  {
   "cell_type": "markdown",
   "id": "68250c3e-ae74-4d3f-9952-dacba7ae934e",
   "metadata": {},
   "source": [
    "### LogisticRegression"
   ]
  },
  {
   "cell_type": "code",
   "execution_count": 32,
   "id": "83683e36-bec1-4466-ac16-c15a9ece8a0f",
   "metadata": {},
   "outputs": [
    {
     "name": "stdout",
     "output_type": "stream",
     "text": [
      "Model: LogisticRegression\n",
      "Accuracy: 97.8% (±0.23%)\n",
      "Recall: 98.22% (±0.36%)\n",
      "Precision: 98.28% (±0.17%)\n",
      "F1 Score: 98.25% (±0.18%)\n"
     ]
    }
   ],
   "source": [
    "from sklearn.linear_model import LogisticRegression\n",
    "\n",
    "\n",
    "lg = LogisticRegression(penalty=None)\n",
    "lg.fit(X_train, y_train)\n",
    "\n",
    "y_pred = lg.predict(X_test)\n",
    "\n",
    "results.append(show_mean_metrics('LogisticRegression', lg, X_train, y_train))"
   ]
  },
  {
   "cell_type": "markdown",
   "id": "aa2f73bc-46be-45da-9b95-bee6f4fe7bff",
   "metadata": {},
   "source": [
    "### RandomForestClassifier"
   ]
  },
  {
   "cell_type": "code",
   "execution_count": 34,
   "id": "670a1ba8-b903-4e4e-a625-eb55e35cdf18",
   "metadata": {
    "scrolled": true
   },
   "outputs": [
    {
     "name": "stdout",
     "output_type": "stream",
     "text": [
      "Model: RandomForestClassifier\n",
      "Accuracy: 96.91% (±0.33%)\n",
      "Recall: 97.11% (±0.35%)\n",
      "Precision: 97.96% (±0.23%)\n",
      "F1 Score: 97.54% (±0.26%)\n"
     ]
    }
   ],
   "source": [
    "from sklearn.ensemble import RandomForestClassifier\n",
    "\n",
    "rnf_clf = RandomForestClassifier(n_estimators=120, random_state=0)\n",
    "rnf_clf.fit(X_train, y_train)\n",
    "\n",
    "y_pred = rnf_clf.predict(X_test)\n",
    "\n",
    "results.append(show_mean_metrics('RandomForestClassifier', rnf_clf, X_train, y_train))"
   ]
  },
  {
   "cell_type": "markdown",
   "id": "6c340f30-f925-47a2-bfdf-6d8cd3ac7d40",
   "metadata": {},
   "source": [
    "### SGDClassifier"
   ]
  },
  {
   "cell_type": "code",
   "execution_count": 36,
   "id": "62fdb6c4-c462-427a-8c8e-e2f00704db91",
   "metadata": {
    "scrolled": true
   },
   "outputs": [
    {
     "name": "stdout",
     "output_type": "stream",
     "text": [
      "Model: SGDClassifier\n",
      "Accuracy: 98.08% (±0.24%)\n",
      "Recall: 98.55% (±0.25%)\n",
      "Precision: 98.39% (±0.38%)\n",
      "F1 Score: 98.47% (±0.19%)\n"
     ]
    }
   ],
   "source": [
    "from sklearn.linear_model import SGDClassifier\n",
    "\n",
    "sgd_clf = SGDClassifier(n_jobs=20, random_state=0)\n",
    "sgd_clf.fit(X_train, y_train)\n",
    "\n",
    "y_pred = sgd_clf.predict(X_test)\n",
    "\n",
    "results.append(show_mean_metrics('SGDClassifier', sgd_clf, X_train, y_train))"
   ]
  },
  {
   "cell_type": "markdown",
   "id": "a52bef82-dad9-4615-8cd4-b5a04d9b6d29",
   "metadata": {},
   "source": [
    "### XGBClassifier"
   ]
  },
  {
   "cell_type": "code",
   "execution_count": 37,
   "id": "11007423-f906-49ac-b7ee-1d9c69872aa7",
   "metadata": {
    "scrolled": true
   },
   "outputs": [
    {
     "name": "stdout",
     "output_type": "stream",
     "text": [
      "Model: XGBClassifier\n",
      "Accuracy: 96.89% (±0.24%)\n",
      "Recall: 96.96% (±0.32%)\n",
      "Precision: 98.07% (±0.24%)\n",
      "F1 Score: 97.51% (±0.19%)\n"
     ]
    }
   ],
   "source": [
    "from xgboost import XGBClassifier\n",
    "\n",
    "xgb = XGBClassifier(n_estimators=100, max_depth=10)\n",
    "xgb.fit(X_train, y_train)\n",
    "\n",
    "y_pred = xgb.predict(X_test)\n",
    "\n",
    "results.append(show_mean_metrics('XGBClassifier', xgb, X_train, y_train))"
   ]
  },
  {
   "cell_type": "code",
   "execution_count": 48,
   "id": "ea11021e-ceca-40bb-b0c3-e51887649c76",
   "metadata": {},
   "outputs": [
    {
     "data": {
      "text/plain": [
       "[('LogisticRegression', 97.8, 0.23, 98.22, 0.36, 98.28, 0.17, 98.25, 0.18),\n",
       " ('RandomForestClassifier',\n",
       "  96.91,\n",
       "  0.33,\n",
       "  97.11,\n",
       "  0.35,\n",
       "  97.96,\n",
       "  0.23,\n",
       "  97.54,\n",
       "  0.26),\n",
       " ('SGDClassifier', 98.08, 0.24, 98.55, 0.25, 98.39, 0.38, 98.47, 0.19),\n",
       " ('XGBClassifier', 96.89, 0.24, 96.96, 0.32, 98.07, 0.24, 97.51, 0.19)]"
      ]
     },
     "execution_count": 48,
     "metadata": {},
     "output_type": "execute_result"
    }
   ],
   "source": [
    "results"
   ]
  },
  {
   "cell_type": "markdown",
   "id": "4159a368-ecff-474c-89f6-6dab8eabaf58",
   "metadata": {},
   "source": [
    "### Comparison of model quality metrics"
   ]
  },
  {
   "cell_type": "code",
   "execution_count": 57,
   "id": "0c014224-0c9d-488e-b29f-d85ce7c549dc",
   "metadata": {},
   "outputs": [
    {
     "data": {
      "image/png": "[encoded data removed]",
      "text/plain": [
       "<Figure size 1200x800 with 2 Axes>"
      ]
     },
     "metadata": {},
     "output_type": "display_data"
    }
   ],
   "source": [
    "import seaborn as sns\n",
    "import matplotlib.pyplot as plt\n",
    "import pandas as pd\n",
    "\n",
    "metrics_df = pd.DataFrame(\n",
    "    results,\n",
    "    columns=['name', 'accuracy', 'accuracy_std', 'recall', 'recall_std', \n",
    "             'precision', 'precision_std', 'f1', 'f1_std']\n",
    ")\n",
    "\n",
    "df_metrics = metrics_df.melt(id_vars='name', value_vars=['accuracy', 'recall', 'precision', 'f1'], var_name='metric', value_name='score')\n",
    "\n",
    "# Preparing data for the std barplot\n",
    "df_std = metrics_df.melt(\n",
    "    id_vars='name',\n",
    "    value_vars=['accuracy_std', 'recall_std', 'precision_std', 'f1_std'],\n",
    "    var_name='metric',\n",
    "    value_name='std'\n",
    ")\n",
    "df_std['metric'] = df_std['metric'].str.replace('_std', '')\n",
    "\n",
    "# Create a shape with two subplots\n",
    "fig, (ax1, ax2) = plt.subplots(2, 1, figsize=(12, 8))\n",
    "sns.set_style(\"whitegrid\")\n",
    "\n",
    "# metrics\n",
    "sns.barplot(x='name', y='score', hue='metric', data=df_metrics, palette='viridis',ax=ax1)\n",
    "ax1.set_title('Model Comparison (Metrics)', fontsize=16, pad=20)\n",
    "ax1.set_xlabel('Model', fontsize=12)\n",
    "ax1.set_ylabel('Score (%)', fontsize=12)\n",
    "ax1.set_ylim(96.5, 100)\n",
    "ax1.legend(title='Metric', bbox_to_anchor=(1.05, 1), loc='upper left')\n",
    "\n",
    "for p in ax1.patches:\n",
    "    ax1.annotate(\n",
    "        f\"{p.get_height():.2f}\", \n",
    "        (p.get_x() + p.get_width() / 2., p.get_height()),\n",
    "        ha='center', \n",
    "        va='center', \n",
    "        xytext=(0, 5), \n",
    "        textcoords='offset points'\n",
    "    )\n",
    "\n",
    "# std\n",
    "sns.barplot(x='name', y='std', hue='metric', data=df_std, palette='flare',ax=ax2)\n",
    "ax2.set_title('Model Comparison (Standard Deviations)', fontsize=16, pad=20)\n",
    "ax2.set_xlabel('Model', fontsize=12)\n",
    "ax2.set_ylabel('Standard Deviation (%)', fontsize=12)\n",
    "ax2.set_ylim(0, 0.6)  # Диапазон для погрешностей\n",
    "ax2.legend(title='Metric', bbox_to_anchor=(1.05, 1), loc='upper left')\n",
    "\n",
    "for p in ax2.patches:\n",
    "    ax2.annotate(\n",
    "        f\"{p.get_height():.2f}\", \n",
    "        (p.get_x() + p.get_width() / 2., p.get_height()),\n",
    "        ha='center', \n",
    "        va='center', \n",
    "        xytext=(0, 5), \n",
    "        textcoords='offset points'\n",
    "    )\n",
    "\n",
    "plt.tight_layout()\n",
    "plt.show()"
   ]
  },
  {
   "cell_type": "markdown",
   "id": "cc1d4736-318d-449b-97eb-ed510bf03879",
   "metadata": {},
   "source": [
    "The SGDClassifier outperforms other models for phishing detection with superior 98.55% recall (±0.25) - significantly higher than competitors like LogisticRegression (98.22%) and XGBoost (96.96%).\n",
    "The model's combination of highest threat identification and consistent reliability makes it the clear choice for security-critical email systems."
   ]
  },
  {
   "cell_type": "code",
   "execution_count": null,
   "id": "d6cf747d-f034-4b90-b4ef-eac6f0579f32",
   "metadata": {},
   "outputs": [],
   "source": []
  }
 ],
 "metadata": {
  "kernelspec": {
   "display_name": "Python [conda env:base] *",
   "language": "python",
   "name": "conda-base-py"
  },
  "language_info": {
   "codemirror_mode": {
    "name": "ipython",
    "version": 3
   },
   "file_extension": ".py",
   "mimetype": "text/x-python",
   "name": "python",
   "nbconvert_exporter": "python",
   "pygments_lexer": "ipython3",
   "version": "3.12.7"
  }
 },
 "nbformat": 4,
 "nbformat_minor": 5
}
